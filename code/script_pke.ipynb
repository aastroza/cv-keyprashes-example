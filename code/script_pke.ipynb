{
 "metadata": {
  "language_info": {
   "codemirror_mode": {
    "name": "ipython",
    "version": 3
   },
   "file_extension": ".py",
   "mimetype": "text/x-python",
   "name": "python",
   "nbconvert_exporter": "python",
   "pygments_lexer": "ipython3",
   "version": "3.8.5-final"
  },
  "orig_nbformat": 2,
  "kernelspec": {
   "name": "python3",
   "display_name": "Python 3.8.5 64-bit ('bcc': conda)",
   "metadata": {
    "interpreter": {
     "hash": "a12fe6bb0f019bf3da34e2487375276931893d71a0b12b30fdacea5d8b38186c"
    }
   }
  }
 },
 "nbformat": 4,
 "nbformat_minor": 2,
 "cells": [
  {
   "cell_type": "code",
   "execution_count": 95,
   "metadata": {},
   "outputs": [
    {
     "output_type": "stream",
     "name": "stdout",
     "text": [
      "Linux LAPTOP-SUBURHGP 4.19.104-microsoft-standard #1 SMP Wed Feb 19 06:37:35 UTC 2020 x86_64 x86_64 x86_64 GNU/Linux\nWed Jan 20 21:52:29 -03 2021\n/mnt/d/repos/atcom/code\n"
     ]
    }
   ],
   "source": [
    "!uname -a && date && pwd"
   ]
  },
  {
   "cell_type": "code",
   "execution_count": 96,
   "metadata": {},
   "outputs": [],
   "source": [
    "import pke\n",
    "from pathlib import Path"
   ]
  },
  {
   "source": [
    "Cargamos el [anuncio publicado por Atcom en computrabajo](https://www.computrabajo.cl/atcom/empleos/oferta-de-trabajo-de-operario-de-bodega-pudahuel-en-santiago-pudahuel-D3B187616ED2B51161373E686DCF3405):"
   ],
   "cell_type": "markdown",
   "metadata": {}
  },
  {
   "cell_type": "code",
   "execution_count": 97,
   "metadata": {},
   "outputs": [],
   "source": [
    "with open ('../data/raw/anuncios/anuncio_D3B187616ED2B51161373E686DCF3405.txt', 'r') as myfile:\n",
    "    data_anuncio=myfile.readlines()"
   ]
  },
  {
   "cell_type": "code",
   "execution_count": 98,
   "metadata": {},
   "outputs": [
    {
     "output_type": "execute_result",
     "data": {
      "text/plain": [
       "['Operario de BodegaPudahuel\\n',\n",
       " 'Publicada:Hoy, 07:32 p. m. (actualizada)\\n',\n",
       " 'Salario\\n',\n",
       " '$ 400.000,00\\n',\n",
       " 'Localización\\n',\n",
       " 'Santiago - Pudahuel, R.Metropolitana\\n',\n",
       " 'Descripción\\n',\n",
       " 'Compañía logística de última milla con mayor cobertura nacional y capilaridad en la región, con el mayor crecimiento anual en el mercado y nuestros clientes son las empresas líderes en sus industrias. Esta en busca de operarios de bodega\\n',\n",
       " 'Funciones principales:\\n',\n",
       " '• Carga y descarga de camiones.\\n',\n",
       " '• Orden de bodega.\\n',\n",
       " '• Revisión de stock\\n',\n",
       " '• Realización de inventarios.\\n',\n",
       " '\\n',\n",
       " 'horario: lunes a viernes 14:00 a 23:00.-\\n',\n",
       " '\\n',\n",
       " '-Empresa no cuenta con bus de acercamiento.\\n',\n",
       " '-Ideal residir en Pudahuel y contar con movilización.\\n',\n",
       " '\\n',\n",
       " 'Sueldo: $375.000.-\\n',\n",
       " 'Requerimientos\\n',\n",
       " 'Educación mínima: Educación media C.H. / Técnica\\n',\n",
       " 'Disponibilidad de viajar: No\\n',\n",
       " 'Disponibilidad de cambio de residencia: No']"
      ]
     },
     "metadata": {},
     "execution_count": 98
    }
   ],
   "source": [
    "data_anuncio"
   ]
  },
  {
   "source": [
    "Creamos el extractor de términos clave:"
   ],
   "cell_type": "markdown",
   "metadata": {}
  },
  {
   "cell_type": "code",
   "execution_count": 99,
   "metadata": {},
   "outputs": [],
   "source": [
    "extractor = pke.unsupervised.TopicRank()"
   ]
  },
  {
   "cell_type": "code",
   "execution_count": 100,
   "metadata": {},
   "outputs": [],
   "source": [
    "extractor.load_document(input='../data/raw/anuncios/anuncio_D3B187616ED2B51161373E686DCF3405.txt', language='es')"
   ]
  },
  {
   "cell_type": "code",
   "execution_count": 101,
   "metadata": {},
   "outputs": [],
   "source": [
    "extractor.candidate_selection()"
   ]
  },
  {
   "cell_type": "code",
   "execution_count": 102,
   "metadata": {},
   "outputs": [],
   "source": [
    "extractor.candidate_weighting()"
   ]
  },
  {
   "cell_type": "code",
   "execution_count": 103,
   "metadata": {},
   "outputs": [],
   "source": [
    "kp_anuncio = extractor.get_n_best(n=3)"
   ]
  },
  {
   "source": [
    "Los términos clave son:"
   ],
   "cell_type": "markdown",
   "metadata": {}
  },
  {
   "cell_type": "code",
   "execution_count": 104,
   "metadata": {},
   "outputs": [
    {
     "output_type": "execute_result",
     "data": {
      "text/plain": [
       "[('operario', 0.044106764026968885),\n",
       " ('pudahuel', 0.04265335995378799),\n",
       " ('bodega', 0.04209516244235679)]"
      ]
     },
     "metadata": {},
     "execution_count": 104
    }
   ],
   "source": [
    "kp_anuncio"
   ]
  },
  {
   "source": [
    "Ahora carguemos nuestra pequeña base de datos de CVs. Consisten en 15 CVs conseguidos en Google, donde dos de ellos son de operarios de bodega: `Cesar-Contreras.txt` y `cvgral145.txt`. El resto son de profesiones varias."
   ],
   "cell_type": "markdown",
   "metadata": {}
  },
  {
   "cell_type": "code",
   "execution_count": 105,
   "metadata": {},
   "outputs": [],
   "source": [
    "path = Path('../data/raw/cv/')"
   ]
  },
  {
   "cell_type": "code",
   "execution_count": 106,
   "metadata": {},
   "outputs": [],
   "source": [
    "files = list(path.glob('*.txt'))"
   ]
  },
  {
   "source": [
    "Buscamos los términos clave en los curriculums y calculamos un score:"
   ],
   "cell_type": "markdown",
   "metadata": {}
  },
  {
   "cell_type": "code",
   "execution_count": 107,
   "metadata": {},
   "outputs": [],
   "source": [
    "scores = []\n",
    "for f in files:\n",
    "    with open ('../data/raw/cv/'+f.name, 'r') as myfile:\n",
    "        data_cv = myfile.readlines()\n",
    "        s = 0\n",
    "        for line in data_cv:\n",
    "            for kp in kp_anuncio:\n",
    "                if(line.lower().find(kp[0].lower()) > 0):\n",
    "                    s = s + 1\n",
    "        scores.append([f.name, s])"
   ]
  },
  {
   "source": [
    "Ordenamos cada CV de mayor a menor puntaje:"
   ],
   "cell_type": "markdown",
   "metadata": {}
  },
  {
   "cell_type": "code",
   "execution_count": 108,
   "metadata": {},
   "outputs": [
    {
     "output_type": "execute_result",
     "data": {
      "text/plain": [
       "[['cvgral145.txt', 5],\n",
       " ['Cesar-Contreras.txt', 4],\n",
       " ['CV-Sergio-Pereira-Vergara-1.txt', 4],\n",
       " ['IBAR GODOY.txt', 2],\n",
       " ['Curriculum-Vitae-Pamela-Reyes-Lobos.txt', 1],\n",
       " ['13656230201CURRÃƒÂ_CULUM VITAE.txt', 0],\n",
       " ['200901251545570.curriculum jorge rojas chaparro.txt', 0],\n",
       " ['curri2017.txt', 0],\n",
       " ['Curriculum alcaldesa.txt', 0],\n",
       " ['CURRICULUM-VITAE.txt', 0],\n",
       " ['CV Marta Henriquez.txt', 0],\n",
       " ['CV-CARLOS_OPAZO_April_2020-1.txt', 0],\n",
       " ['CV_-_E_Gianoli_-_Octubre_2013.txt', 0],\n",
       " ['Fco.-curriculum-ENCARGADO-CRA-M.txt', 0],\n",
       " ['luis molina.txt', 0]]"
      ]
     },
     "metadata": {},
     "execution_count": 108
    }
   ],
   "source": [
    "sorted(scores, key=lambda x: x[1], reverse=True)"
   ]
  },
  {
   "source": [
    "De esta forma se podrían ordenar los CVs para que el reclutador comience el trabajo con los que son más relevantes según el anuncio :)"
   ],
   "cell_type": "markdown",
   "metadata": {}
  },
  {
   "cell_type": "code",
   "execution_count": null,
   "metadata": {},
   "outputs": [],
   "source": []
  }
 ]
}