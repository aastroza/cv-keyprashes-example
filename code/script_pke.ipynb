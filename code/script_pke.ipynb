{
 "metadata": {
  "language_info": {
   "codemirror_mode": {
    "name": "ipython",
    "version": 3
   },
   "file_extension": ".py",
   "mimetype": "text/x-python",
   "name": "python",
   "nbconvert_exporter": "python",
   "pygments_lexer": "ipython3",
   "version": "3.8.5-final"
  },
  "orig_nbformat": 2,
  "kernelspec": {
   "name": "python3",
   "display_name": "Python 3.8.5 64-bit ('bcc': conda)",
   "metadata": {
    "interpreter": {
     "hash": "a12fe6bb0f019bf3da34e2487375276931893d71a0b12b30fdacea5d8b38186c"
    }
   }
  }
 },
 "nbformat": 4,
 "nbformat_minor": 2,
 "cells": [
  {
   "cell_type": "code",
   "execution_count": 9,
   "metadata": {},
   "outputs": [
    {
     "output_type": "stream",
     "name": "stdout",
     "text": [
      "Linux LAPTOP-SUBURHGP 4.19.104-microsoft-standard #1 SMP Wed Feb 19 06:37:35 UTC 2020 x86_64 x86_64 x86_64 GNU/Linux\nWed Jan 20 20:50:22 -03 2021\n/mnt/d/repos/atcom/code\n"
     ]
    }
   ],
   "source": [
    "!uname -a && date && pwd"
   ]
  },
  {
   "cell_type": "code",
   "execution_count": 26,
   "metadata": {},
   "outputs": [
    {
     "output_type": "error",
     "ename": "ModuleNotFoundError",
     "evalue": "No module named 'textract'",
     "traceback": [
      "\u001b[0;31m---------------------------------------------------------------------------\u001b[0m",
      "\u001b[0;31mModuleNotFoundError\u001b[0m                       Traceback (most recent call last)",
      "\u001b[0;32m<ipython-input-26-0e46b636268e>\u001b[0m in \u001b[0;36m<module>\u001b[0;34m\u001b[0m\n\u001b[1;32m      1\u001b[0m \u001b[0;32mimport\u001b[0m \u001b[0mpke\u001b[0m\u001b[0;34m\u001b[0m\u001b[0;34m\u001b[0m\u001b[0m\n\u001b[1;32m      2\u001b[0m \u001b[0;32mfrom\u001b[0m \u001b[0mpathlib\u001b[0m \u001b[0;32mimport\u001b[0m \u001b[0mPath\u001b[0m\u001b[0;34m\u001b[0m\u001b[0;34m\u001b[0m\u001b[0m\n\u001b[0;32m----> 3\u001b[0;31m \u001b[0;32mimport\u001b[0m \u001b[0mtextract\u001b[0m\u001b[0;34m\u001b[0m\u001b[0;34m\u001b[0m\u001b[0m\n\u001b[0m",
      "\u001b[0;31mModuleNotFoundError\u001b[0m: No module named 'textract'"
     ]
    }
   ],
   "source": [
    "import pke\n",
    "from pathlib import Path\n",
    "import textract"
   ]
  },
  {
   "cell_type": "code",
   "execution_count": 11,
   "metadata": {},
   "outputs": [],
   "source": [
    "extractor = pke.unsupervised.TopicRank()"
   ]
  },
  {
   "cell_type": "code",
   "execution_count": 12,
   "metadata": {},
   "outputs": [],
   "source": [
    "extractor.load_document(input='../data/raw/anuncios/anuncio_D3B187616ED2B51161373E686DCF3405.txt', language='es')"
   ]
  },
  {
   "cell_type": "code",
   "execution_count": 13,
   "metadata": {},
   "outputs": [],
   "source": [
    "extractor.candidate_selection()"
   ]
  },
  {
   "cell_type": "code",
   "execution_count": 14,
   "metadata": {},
   "outputs": [],
   "source": [
    "extractor.candidate_weighting()"
   ]
  },
  {
   "cell_type": "code",
   "execution_count": 17,
   "metadata": {},
   "outputs": [],
   "source": [
    "kp_anuncio = extractor.get_n_best(n=10)"
   ]
  },
  {
   "cell_type": "code",
   "execution_count": 18,
   "metadata": {},
   "outputs": [
    {
     "output_type": "execute_result",
     "data": {
      "text/plain": [
       "[('operario', 0.044106764026968885),\n",
       " ('pudahuel', 0.04265335995378799),\n",
       " ('bodega', 0.04209516244235679),\n",
       " ('educación mínima', 0.03730502492867634),\n",
       " ('disponibilidad', 0.03682353177479642),\n",
       " ('mayor cobertura nacional', 0.029675782017710532),\n",
       " ('compañía logística', 0.028990669468717624),\n",
       " ('última milla', 0.0289307096474557),\n",
       " ('santiago', 0.027364193901440334),\n",
       " ('busca', 0.026857480653029737)]"
      ]
     },
     "metadata": {},
     "execution_count": 18
    }
   ],
   "source": [
    "kp_anuncio"
   ]
  },
  {
   "cell_type": "code",
   "execution_count": 23,
   "metadata": {},
   "outputs": [],
   "source": [
    "path = Path('../data/raw/cv/')"
   ]
  },
  {
   "cell_type": "code",
   "execution_count": 24,
   "metadata": {},
   "outputs": [],
   "source": [
    "files = list(path.glob('*.txt'))"
   ]
  },
  {
   "cell_type": "code",
   "execution_count": 25,
   "metadata": {},
   "outputs": [
    {
     "output_type": "execute_result",
     "data": {
      "text/plain": [
       "[PosixPath('../data/raw/cv/13656230201CURRÃƒÂ_CULUM VITAE.doc'),\n",
       " PosixPath('../data/raw/cv/200901251545570.curriculum jorge rojas chaparro.doc'),\n",
       " PosixPath('../data/raw/cv/Cesar-Contreras.doc'),\n",
       " PosixPath('../data/raw/cv/curri2017.doc'),\n",
       " PosixPath('../data/raw/cv/Curriculum alcaldesa.doc'),\n",
       " PosixPath('../data/raw/cv/Curriculum-Vitae-Pamela-Reyes-Lobos.doc'),\n",
       " PosixPath('../data/raw/cv/CURRICULUM-VITAE.doc'),\n",
       " PosixPath('../data/raw/cv/CV Marta Henriquez.doc'),\n",
       " PosixPath('../data/raw/cv/CV-CARLOS_OPAZO_April_2020-1.doc'),\n",
       " PosixPath('../data/raw/cv/CV-Sergio-Pereira-Vergara-1.doc'),\n",
       " PosixPath('../data/raw/cv/cvgral145.doc'),\n",
       " PosixPath('../data/raw/cv/CV_-_E_Gianoli_-_Octubre_2013.doc'),\n",
       " PosixPath('../data/raw/cv/Fco.-curriculum-ENCARGADO-CRA-M..doc'),\n",
       " PosixPath('../data/raw/cv/IBAR GODOY.doc'),\n",
       " PosixPath('../data/raw/cv/luis molina.doc')]"
      ]
     },
     "metadata": {},
     "execution_count": 25
    }
   ],
   "source": [
    "files"
   ]
  },
  {
   "cell_type": "code",
   "execution_count": null,
   "metadata": {},
   "outputs": [],
   "source": []
  }
 ]
}